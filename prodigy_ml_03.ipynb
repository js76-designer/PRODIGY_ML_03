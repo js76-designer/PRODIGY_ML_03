{
 "cells": [
  {
   "cell_type": "code",
   "execution_count": 9,
   "id": "73c09090-4470-4de5-b96b-535797965cf7",
   "metadata": {},
   "outputs": [
    {
     "name": "stdout",
     "output_type": "stream",
     "text": [
      "Requirement already satisfied: opencv-python in c:\\users\\mohammed jaffer\\anaconda3\\lib\\site-packages (4.11.0.86)\n",
      "Requirement already satisfied: numpy in c:\\users\\mohammed jaffer\\anaconda3\\lib\\site-packages (1.26.4)\n",
      "Requirement already satisfied: scikit-learn in c:\\users\\mohammed jaffer\\anaconda3\\lib\\site-packages (1.5.1)\n",
      "Requirement already satisfied: scipy>=1.6.0 in c:\\users\\mohammed jaffer\\anaconda3\\lib\\site-packages (from scikit-learn) (1.13.1)\n",
      "Requirement already satisfied: joblib>=1.2.0 in c:\\users\\mohammed jaffer\\anaconda3\\lib\\site-packages (from scikit-learn) (1.4.2)\n",
      "Requirement already satisfied: threadpoolctl>=3.1.0 in c:\\users\\mohammed jaffer\\anaconda3\\lib\\site-packages (from scikit-learn) (3.5.0)\n"
     ]
    }
   ],
   "source": [
    "# Run this cell only if these packages are not already installed\n",
    "!pip install opencv-python numpy scikit-learn"
   ]
  },
  {
   "cell_type": "code",
   "execution_count": 10,
   "id": "077a4892-8622-4625-b6e7-e555894255e0",
   "metadata": {},
   "outputs": [
    {
     "name": "stdout",
     "output_type": "stream",
     "text": [
      "'train.zip' extracted to 'train_images'\n",
      "'test.zip' extracted to 'test_images'\n"
     ]
    }
   ],
   "source": [
    "import zipfile\n",
    "import os\n",
    "\n",
    "train_zip_path = 'train.zip'\n",
    "test_zip_path = 'test.zip'\n",
    "extracted_train_folder = 'train_images'\n",
    "extracted_test_folder = 'test_images'\n",
    "\n",
    "os.makedirs(extracted_train_folder, exist_ok=True)\n",
    "os.makedirs(extracted_test_folder, exist_ok=True)\n",
    "\n",
    "# Extract train.zip\n",
    "try:\n",
    "    with zipfile.ZipFile(train_zip_path, 'r') as zip_ref:\n",
    "        zip_ref.extractall(extracted_train_folder)\n",
    "    print(f\"'{train_zip_path}' extracted to '{extracted_train_folder}'\")\n",
    "except FileNotFoundError:\n",
    "    print(f\"Error: '{train_zip_path}' not found.\")\n",
    "except Exception as e:\n",
    "    print(f\"Error extracting '{train_zip_path}': {e}\")\n",
    "\n",
    "# Extract test.zip\n",
    "try:\n",
    "    with zipfile.ZipFile(test_zip_path, 'r') as zip_ref:\n",
    "        zip_ref.extractall(extracted_test_folder)\n",
    "    print(f\"'{test_zip_path}' extracted to '{extracted_test_folder}'\")\n",
    "except FileNotFoundError:\n",
    "    print(f\"Error: '{test_zip_path}' not found.\")\n",
    "except Exception as e:\n",
    "    print(f\"Error extracting '{test_zip_path}': {e}\")\n"
   ]
  },
  {
   "cell_type": "code",
   "execution_count": 11,
   "id": "f9d1d75d-089d-44bf-81f6-a7ed4869a04f",
   "metadata": {},
   "outputs": [
    {
     "name": "stdout",
     "output_type": "stream",
     "text": [
      "Training data: (78, 30000), Labels: (78,)\n",
      "Testing data: (50, 30000), Labels: (0,)\n"
     ]
    }
   ],
   "source": [
    "import os\n",
    "import cv2\n",
    "import numpy as np\n",
    "\n",
    "image_size = (100, 100)\n",
    "X_train, y_train = [], []\n",
    "X_test, y_test = [], []\n",
    "\n",
    "def load_images_from_folder(folder_path):\n",
    "    image_data = []\n",
    "    labels = []\n",
    "    if not os.path.exists(folder_path):\n",
    "        print(f\"Folder '{folder_path}' not found.\")\n",
    "        return image_data, labels\n",
    "\n",
    "    for filename in os.listdir(folder_path):\n",
    "        if filename.lower().endswith((\".jpg\", \".png\", \".jpeg\")):\n",
    "            img_path = os.path.join(folder_path, filename)\n",
    "            img = cv2.imread(img_path)\n",
    "            if img is not None:\n",
    "                img = cv2.resize(img, image_size)\n",
    "                img = img.flatten()\n",
    "                image_data.append(img)\n",
    "                if \"cat\" in filename.lower():\n",
    "                    labels.append(0)\n",
    "                elif \"dog\" in filename.lower():\n",
    "                    labels.append(1)\n",
    "    return image_data, labels\n",
    "\n",
    "X_train, y_train = load_images_from_folder(extracted_train_folder)\n",
    "X_test, y_test = load_images_from_folder(extracted_test_folder)\n",
    "\n",
    "X_train = np.array(X_train)\n",
    "y_train = np.array(y_train)\n",
    "X_test = np.array(X_test)\n",
    "y_test = np.array(y_test)\n",
    "\n",
    "print(f\"Training data: {X_train.shape}, Labels: {y_train.shape}\")\n",
    "print(f\"Testing data: {X_test.shape}, Labels: {y_test.shape}\")\n"
   ]
  },
  {
   "cell_type": "code",
   "execution_count": 12,
   "id": "104401fa-6083-4f38-8c1d-5e12fbbf83ce",
   "metadata": {},
   "outputs": [
    {
     "name": "stdout",
     "output_type": "stream",
     "text": [
      "SVM model trained successfully.\n"
     ]
    }
   ],
   "source": [
    "from sklearn.svm import SVC\n",
    "\n",
    "svm_model = SVC(kernel='linear', random_state=42)\n",
    "svm_model.fit(X_train, y_train)\n",
    "\n",
    "print(\"SVM model trained successfully.\")\n"
   ]
  },
  {
   "cell_type": "code",
   "execution_count": 13,
   "id": "84a83f60-5e97-426e-95bd-366f70365d3f",
   "metadata": {},
   "outputs": [
    {
     "name": "stdout",
     "output_type": "stream",
     "text": [
      "Predictions on test data:\n",
      "0 -> cat\n",
      "0 -> cat\n",
      "1 -> dog\n",
      "1 -> dog\n",
      "0 -> cat\n",
      "0 -> cat\n",
      "1 -> dog\n",
      "0 -> cat\n",
      "0 -> cat\n",
      "0 -> cat\n",
      "0 -> cat\n",
      "0 -> cat\n",
      "0 -> cat\n",
      "1 -> dog\n",
      "1 -> dog\n",
      "0 -> cat\n",
      "1 -> dog\n",
      "1 -> dog\n",
      "1 -> dog\n",
      "1 -> dog\n",
      "1 -> dog\n",
      "0 -> cat\n",
      "1 -> dog\n",
      "1 -> dog\n",
      "0 -> cat\n",
      "1 -> dog\n",
      "0 -> cat\n",
      "1 -> dog\n",
      "1 -> dog\n",
      "1 -> dog\n",
      "0 -> cat\n",
      "1 -> dog\n",
      "1 -> dog\n",
      "1 -> dog\n",
      "0 -> cat\n",
      "0 -> cat\n",
      "1 -> dog\n",
      "1 -> dog\n",
      "1 -> dog\n",
      "1 -> dog\n",
      "0 -> cat\n",
      "1 -> dog\n",
      "1 -> dog\n",
      "1 -> dog\n",
      "1 -> dog\n",
      "0 -> cat\n",
      "1 -> dog\n",
      "1 -> dog\n",
      "0 -> cat\n",
      "0 -> cat\n"
     ]
    }
   ],
   "source": [
    "# Mapping numeric labels to text\n",
    "label_map = {0: \"cat\", 1: \"dog\"}\n",
    "\n",
    "# Predict on test data\n",
    "y_pred = svm_model.predict(X_test)\n",
    "\n",
    "# Print predictions as \"number -> text\"\n",
    "print(\"Predictions on test data:\")\n",
    "for num, label in zip(y_pred, [label_map[p] for p in y_pred]):\n",
    "    print(f\"{num} -> {label}\")\n"
   ]
  },
  {
   "cell_type": "code",
   "execution_count": 8,
   "id": "a845042f-6e68-4b50-a8a3-4c0eb77e020b",
   "metadata": {},
   "outputs": [
    {
     "data": {
      "image/png": "[encoded data removed]",
      "text/plain": [
       "<Figure size 640x480 with 1 Axes>"
      ]
     },
     "metadata": {},
     "output_type": "display_data"
    }
   ],
   "source": [
    "import matplotlib.pyplot as plt\n",
    "import os\n",
    "import cv2\n",
    "import random\n",
    "example_index = random.randint(0, len(X_test) - 1) \n",
    "example_image_data = X_test[example_index]\n",
    "example_prediction = y_pred_text[example_index]\n",
    "image_height, image_width = image_size\n",
    "image_channels = 3 \n",
    "example_image_reshaped = example_image_data.reshape(image_height, image_width, image_channels)\n",
    "plt.imshow(cv2.cvtColor(example_image_reshaped, cv2.COLOR_BGR2RGB)) \n",
    "plt.title(f\"Predicted: {example_prediction}\")\n",
    "plt.axis('off')\n",
    "plt.show()"
   ]
  },
  {
   "cell_type": "code",
   "execution_count": null,
   "id": "50a1f403-0761-4a0e-8e02-55b04b45848d",
   "metadata": {},
   "outputs": [],
   "source": []
  }
 ],
 "metadata": {
  "kernelspec": {
   "display_name": "Python 3 (ipykernel)",
   "language": "python",
   "name": "python3"
  },
  "language_info": {
   "codemirror_mode": {
    "name": "ipython",
    "version": 3
   },
   "file_extension": ".py",
   "mimetype": "text/x-python",
   "name": "python",
   "nbconvert_exporter": "python",
   "pygments_lexer": "ipython3",
   "version": "3.12.7"
  }
 },
 "nbformat": 4,
 "nbformat_minor": 5
}
